{
 "cells": [
  {
   "cell_type": "code",
   "execution_count": null,
   "id": "c4fe4947",
   "metadata": {
    "vscode": {
     "languageId": "plaintext"
    }
   },
   "outputs": [],
   "source": [
    "print \"halo\""
   ]
  },
  {
   "cell_type": "code",
   "execution_count": null,
   "id": "5c3aaf1a",
   "metadata": {
    "vscode": {
     "languageId": "plaintext"
    }
   },
   "outputs": [],
   "source": []
  }
 ],
 "metadata": {
  "language_info": {
   "name": "python"
  }
 },
 "nbformat": 4,
 "nbformat_minor": 5
}
